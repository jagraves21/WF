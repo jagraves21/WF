{
 "cells": [
  {
   "cell_type": "code",
   "execution_count": 1,
   "metadata": {
    "id": "bs4OkaWQfM2Y"
   },
   "outputs": [],
   "source": [
    "import pandas as pd"
   ]
  },
  {
   "cell_type": "code",
   "execution_count": 2,
   "metadata": {
    "id": "7PlxoPU2fPQh"
   },
   "outputs": [],
   "source": [
    "df1 = pd.DataFrame({'date': ['01/08/2021', '02/08/2021', '03/08/2021'],\n",
    "                    'score' : [2, 4, 6],\n",
    "                    'perf': [4, 5, 7]})\n",
    "\n",
    "df2 = pd.DataFrame({'date': ['01/08/2021', '02/08/2021', '03/08/2021'],\n",
    "                    'score' : [2, 4, 6],\n",
    "                    'perf': [7, 8, 7]})"
   ]
  },
  {
   "cell_type": "code",
   "execution_count": 3,
   "metadata": {
    "colab": {
     "base_uri": "https://localhost:8080/"
    },
    "id": "VnKBBXStnG3b",
    "outputId": "e59ddf9c-47e5-41d6-e7ec-00b7ce173f20"
   },
   "outputs": [
    {
     "name": "stdout",
     "output_type": "stream",
     "text": [
      "\u001b[33mDEPRECATION: Python 2.7 reached the end of its life on January 1st, 2020. Please upgrade your Python as Python 2.7 is no longer maintained. pip 21.0 will drop support for Python 2.7 in January 2021. More details about Python 2 support in pip can be found at https://pip.pypa.io/en/latest/development/release-process/#python-2-support pip 21.0 will remove support for this functionality.\u001b[0m\n",
      "Collecting xlsxwriter\n",
      "  Downloading XlsxWriter-2.0.0-py2.py3-none-any.whl (149 kB)\n",
      "\u001b[K     |████████████████████████████████| 149 kB 4.0 MB/s eta 0:00:01\n",
      "\u001b[?25hInstalling collected packages: xlsxwriter\n",
      "Successfully installed xlsxwriter-2.0.0\n"
     ]
    }
   ],
   "source": [
    "!pip install xlsxwriter"
   ]
  },
  {
   "cell_type": "code",
   "execution_count": 5,
   "metadata": {
    "colab": {
     "base_uri": "https://localhost:8080/"
    },
    "id": "qTcYlHcIfXaA",
    "outputId": "34c61bd7-74b2-48c1-cb9c-4b2be6711708"
   },
   "outputs": [],
   "source": [
    "class Comparison:\n",
    "  def __init__(self, df1, df2, vdf):\n",
    "    self.df1 = df1\n",
    "    self.df2 = df2\n",
    "    self.vdf = vdf\n",
    "\n",
    "  def __str__(self):\n",
    "    return \"\\n\".join([str(self.df1), str(self.df2), str(self.vdf)])\n",
    "\n",
    "  def to_excel(self, path):\n",
    "    writer = pd.ExcelWriter(path, engine='xlsxwriter')\n",
    "\n",
    "    # Position the dataframes in the worksheet.\n",
    "    # The hiding of row is a workaround for a bug: \n",
    "    # https://github.com/pandas-dev/pandas/issues/27772#issuecomment-925624634\n",
    "    next_row = 0\n",
    "    for df in [self.df1, self.df2, self.vdf]:\n",
    "      df.to_excel(writer, sheet_name='Sheet1', startrow=next_row)  \n",
    "      writer.sheets['Sheet1'].set_row(next_row + 2, None, None, {'hidden': True})\n",
    "      # Additional two rows for the column indices\n",
    "      # And another hidden row above\n",
    "      next_row += len(df) + 3 \n",
    "    writer.save()\n",
    "\n",
    "\n",
    "def compare_table(\n",
    "    df1,\n",
    "    df2,\n",
    "    col_list=None,\n",
    "    cutoff_score=[2,6],\n",
    "    groupby=[\"date\",  \"score\"],\n",
    "    title=[\"Table 1\", \"Table 2\"],\n",
    "    save=None\n",
    "):\n",
    "    assert title is None or len(title) == 2, \"expecting exactly 2 titles\"\n",
    "    if col_list is None:\n",
    "        col_list = set.intersection(set(df1.columns), set(df2.columns)) - set(groupby)\n",
    "    if cutoff_score is not None:\n",
    "        df1 = df1.loc[df1[\"score\"].isin(cutoff_score)]\n",
    "        df2 = df2.loc[df2[\"score\"].isin(cutoff_score)]\n",
    "    \n",
    "    df1 = df1.set_index(groupby)[col_list]\n",
    "    df2 = df2.set_index(groupby)[col_list]\n",
    "    index = [\n",
    "        item\n",
    "        for item in df1.index\n",
    "        if item in df2.index\n",
    "    ]\n",
    "    variation_df = (df1.loc[index,col_list] - df2.loc[index,col_list]) / 100.\n",
    "\n",
    "    def reset_and_add_title(df, title):\n",
    "      df = df.reset_index()\n",
    "      df.columns = pd.MultiIndex.from_arrays([[title] * len(df.columns), df.columns])\n",
    "      return df\n",
    "\n",
    "    df1 = reset_and_add_title(df1, title[0])\n",
    "    df2 = reset_and_add_title(df2, title[1])\n",
    "    variation_df = reset_and_add_title(variation_df, \"Variation\")\n",
    "\n",
    "    comparison = Comparison(df1, df2, variation_df)\n",
    "    \n",
    "    if save is not None:\n",
    "        comparison.to_excel(save)\n",
    "    return comparison   "
   ]
  },
  {
   "cell_type": "code",
   "execution_count": 8,
   "metadata": {},
   "outputs": [
    {
     "name": "stdout",
     "output_type": "stream",
     "text": [
      "         CMOR           \n",
      "         date score perf\n",
      "0  01/08/2021     2    4\n",
      "1  03/08/2021     6    7\n",
      "          COE           \n",
      "         date score perf\n",
      "0  01/08/2021     2    7\n",
      "1  03/08/2021     6    7\n",
      "    Variation            \n",
      "         date score  perf\n",
      "0  01/08/2021     2 -0.03\n",
      "1  03/08/2021     6  0.00\n"
     ]
    }
   ],
   "source": [
    "comparison = (compare_table(\n",
    "    df1,\n",
    "    df2,\n",
    "    title=[\"CMOR\", \"COE\"],\n",
    "    col_list=[\"perf\"],\n",
    "    save=\"test.xlsx\"\n",
    "))\n",
    "print(comparison)"
   ]
  },
  {
   "cell_type": "code",
   "execution_count": null,
   "metadata": {},
   "outputs": [],
   "source": []
  }
 ],
 "metadata": {
  "colab": {
   "collapsed_sections": [],
   "name": "compare_table_perf.ipynb",
   "provenance": []
  },
  "kernelspec": {
   "display_name": "Python 2",
   "language": "python",
   "name": "python2"
  },
  "language_info": {
   "codemirror_mode": {
    "name": "ipython",
    "version": 2
   },
   "file_extension": ".py",
   "mimetype": "text/x-python",
   "name": "python",
   "nbconvert_exporter": "python",
   "pygments_lexer": "ipython2",
   "version": "2.7.15"
  }
 },
 "nbformat": 4,
 "nbformat_minor": 1
}
